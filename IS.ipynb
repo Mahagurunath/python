{
  "nbformat": 4,
  "nbformat_minor": 0,
  "metadata": {
    "colab": {
      "provenance": [],
      "authorship_tag": "ABX9TyPIlGt50gTR4YtEgrk8iFQE",
      "include_colab_link": true
    },
    "kernelspec": {
      "name": "python3",
      "display_name": "Python 3"
    },
    "language_info": {
      "name": "python"
    }
  },
  "cells": [
    {
      "cell_type": "markdown",
      "metadata": {
        "id": "view-in-github",
        "colab_type": "text"
      },
      "source": [
        "<a href=\"https://colab.research.google.com/github/Mahagurunath/python/blob/main/IS.ipynb\" target=\"_parent\"><img src=\"https://colab.research.google.com/assets/colab-badge.svg\" alt=\"Open In Colab\"/></a>"
      ]
    },
    {
      "cell_type": "markdown",
      "source": [
        "Student Marks Dashboard\n",
        "\n",
        "Each student record = [name, math, science, english]\n",
        "\n",
        "students = [\n",
        "    [\"Alice\", 85, 90, 95],\n",
        "    [\"Bob\", 75, 80, 82],\n",
        "    [\"Carol\", 92, 88, 91],\n",
        "    [\"David\", 60, 65, 70]\n",
        "]\n",
        "\n",
        "1. Calculate total marks for each student.\n",
        "2. Identify the student with the highest average.\n",
        "3. Print names of students who scored more than 250 in total.\n",
        "4. Add a new student record and reprint all.\n"
      ],
      "metadata": {
        "id": "gFdA7M7KJ14p"
      }
    },
    {
      "cell_type": "code",
      "source": [
        "s=[[\"alice\",85,90,95],\n",
        "  [\"bob\",75,80,82],\n",
        "  [\"carol\",92,88,91],\n",
        "  [\"david\",60,65,70]]\n",
        "t_m=[]\n",
        "for i in range(len(s)):\n",
        "  total=s[i][1]+s[i][2]+s[i][3]\n",
        "  t_m.append(total)\n",
        "print(t_m)\n",
        "\n",
        "t_m=[]\n",
        "for i in range(len(s)):\n",
        "  total=s[i][1]+s[i][2]+s[i][3]\n",
        "  avergre=total/3\n",
        "  t_m.append(avergre)\n",
        "print(t_m)\n",
        "print(max(t_m))\n",
        "\n",
        "for i in range(len(s)):\n",
        "  total=s[i][1]+s[i][2]+s[i][3]\n",
        "  if total > 250:\n",
        "    print(s[i][0])\n",
        "\n",
        "s.append([\"vp\",80,85,90])\n",
        "print(s)"
      ],
      "metadata": {
        "id": "_hROCYt-JxQH",
        "colab": {
          "base_uri": "https://localhost:8080/"
        },
        "outputId": "900746d9-ef00-4d86-c3d5-d680fb89bd6b"
      },
      "execution_count": null,
      "outputs": [
        {
          "output_type": "stream",
          "name": "stdout",
          "text": [
            "[270, 237, 271, 195]\n",
            "[90.0, 79.0, 90.33333333333333, 65.0]\n",
            "90.33333333333333\n",
            "alice\n",
            "carol\n",
            "[['alice', 85, 90, 95], ['bob', 75, 80, 82], ['carol', 92, 88, 91], ['david', 60, 65, 70], ['vp', 80, 85, 90]]\n"
          ]
        }
      ]
    },
    {
      "cell_type": "markdown",
      "source": [
        "2: Hobby Tracker\n",
        "\n",
        "Each record = [name, hobby1, hobby2]\n",
        "\n",
        "hobby_data = [\n",
        "    [\"Alice\", \"reading\", \"cycling\"],\n",
        "    [\"Bob\", \"drawing\", \"football\"],\n",
        "    [\"Carol\", \"reading\", \"swimming\"],\n",
        "    [\"David\", \"cycling\", \"gaming\"]\n",
        "]\n",
        "\n",
        "1. Print all unique hobbies.\n",
        "2. Count how many students have 'reading' as a hobby.\n",
        "3. Find students who share at least one hobby.\n",
        "4. Create a dictionary: {'Alice': ['reading', 'cycling'], ...}"
      ],
      "metadata": {
        "id": "UoH7TMugKWsI"
      }
    },
    {
      "cell_type": "code",
      "source": [
        "h_d =[[\"Alice\",\"reading\",\"cycling\"],\n",
        "      [\"bob\",\"drawing\",\"football\"],\n",
        "      [\"carol\",\"reading\",\"swimming\"],\n",
        "      [\"David\",\"cycling\",\"gaming\"]\n",
        "      ]\n",
        "u_h=[]\n",
        "for i in range(4):\n",
        "  for j in range(1,3):\n",
        "    if h_d[i][j] not in u_h:\n",
        "      u_h.append(h_d[i][j])\n",
        "print(u_h)\n",
        "\n",
        "count = 0\n",
        "for i in range(4):\n",
        "  if h_d[i][1] == \"reading\" or h_d[i][2] == \"reading\":\n",
        "    count = count + 1\n",
        "print(count)\n",
        "\n",
        "for i in range(4):\n",
        "  for j in range(1,3):\n",
        "   h1=h_d[i][j]\n",
        "   if h1 == \"cycling\" or h1 == \"reading\":\n",
        "     print(h_d[i][0])\n",
        "\n",
        "h_d={'alice':['reading','cycling'],\n",
        "     'bob':['drawing','football'],\n",
        "     'carol':['reading','swimming'],\n",
        "     'david':['cycling','gaming']}\n",
        "print(h_d)"
      ],
      "metadata": {
        "colab": {
          "base_uri": "https://localhost:8080/"
        },
        "id": "eSzkYk5ezUVC",
        "outputId": "103fd947-fc73-430d-a850-17a6be4d6625"
      },
      "execution_count": null,
      "outputs": [
        {
          "output_type": "stream",
          "name": "stdout",
          "text": [
            "['reading', 'cycling', 'drawing', 'football', 'swimming', 'gaming']\n",
            "2\n",
            "Alice\n",
            "Alice\n",
            "carol\n",
            "David\n",
            "{'alice': ['reading,cycling'], 'bob': ['drawing', 'football'], 'carol': ['reading', 'swimming'], 'david': ['cycling', 'gaming']}\n"
          ]
        }
      ]
    },
    {
      "cell_type": "markdown",
      "source": [
        "Each row = [product name, Jon sales, Feb soles, Mar_sules]\n",
        "\n",
        "sales = [\n",
        "    [\"Rice\", 120, 130, 125],\n",
        "    [\"Wheat\", 100, 90, 95],\n",
        "    [\"Oil\", 80, 85, 90],\n",
        "    [\"Sugar\", 110, 115, 105]\n",
        "]\n",
        "\n",
        "\n",
        "1. Calculate total sales for each product.\n",
        "2. Find the product with the highest sales in March.\n",
        "3. Print month-wise total sales.\n",
        "4. Convert the list to dictionary with product as key."
      ],
      "metadata": {
        "id": "ug1YX1MHKt9B"
      }
    },
    {
      "cell_type": "code",
      "source": [
        "sales=[[\"rice\",120,130,125],\n",
        "       [\"wheat\",100,90,95],\n",
        "       [\"oil\",80,85,90],\n",
        "       [\"sugar\",110,115,105]]\n",
        "total_sales=[]\n",
        "for i in range(len(sales)):\n",
        "  total=sales[i][1]+sales[i][2]+sales[i][3]\n",
        "  total_sales.append(total)\n",
        "print(total_sales)\n",
        "\n",
        "max1=0\n",
        "n=\"\"\n",
        "for i in range(4):\n",
        "  if sales[i][3] > max1 :\n",
        "    max1 = sales[i][3]\n",
        "    n=sales[i][0]\n",
        "print(n,end=\":\")\n",
        "print(max1)\n",
        "\n",
        "j=0\n",
        "f=0\n",
        "m=0\n",
        "for i in range(4):\n",
        "  j=j+sales[i][1]\n",
        "  f=f+sales[i][2]\n",
        "  m=m+sales[i][3]\n",
        "print(j,f,m)\n",
        "\n",
        "sales={'rice':[120,130,125],\n",
        "       'wheat':[100,90,95],\n",
        "       'oil':[80,85,90],\n",
        "       'sugar':[110,115,105]}\n",
        "print(sales)\n"
      ],
      "metadata": {
        "colab": {
          "base_uri": "https://localhost:8080/"
        },
        "id": "k8YM5fCSN_gt",
        "outputId": "ce0a537f-a42d-426a-8435-3d265b63aca7"
      },
      "execution_count": null,
      "outputs": [
        {
          "output_type": "stream",
          "name": "stdout",
          "text": [
            "[375, 285, 255, 330]\n",
            "rice:125\n",
            "410 420 415\n",
            "{'rice': [120, 130, 125], 'wheat': [100, 90, 95], 'oil': [80, 85, 90], 'sugar': [110, 115, 105]}\n"
          ]
        }
      ]
    },
    {
      "cell_type": "markdown",
      "source": [
        "Each record = [book_title, author_name, genre]\n",
        "\n",
        "books = [\n",
        "    [\"Wings of Fire\", \"A.P.J. Abdul Kalam\", \"Biography\"],\n",
        "    [\"1984\", \"George Orwell\", \"Fiction\"],\n",
        "    [\"The Alchemist\", \"Paulo Coelho\", \"Fiction\"],\n",
        "    [\"Zero to One\", \"Peter Thiel\", \"Business\"]\n",
        "]\n",
        "\n",
        "\n",
        "Tasks:\n",
        "1. Print all books under the \"Fiction\" genre.\n",
        "2. Create a list of all unique authors.\n",
        "3. Count books per genre.\n",
        "4. Convert list to: [{'title': ..., 'author': ..., 'genre': ...}, ...]"
      ],
      "metadata": {
        "id": "QilIsjH6LXC3"
      }
    },
    {
      "cell_type": "code",
      "source": [
        "books=[[\"wings of fire\",\"A.P.J.abdul kalam\",\"biography\"],\n",
        "       [\"1984\",\"george orwell\",\"fiction\"],\n",
        "       [\"the alchemist\",\"paulo coelho\",\"fiction\"],\n",
        "       [\"zero to one\",\"peter thiel\",\"buisness\"]]\n",
        "\n",
        "for i in range (4):\n",
        "  if books[i][2] == \"fiction\":\n",
        "    print(books[i][0])\n",
        "\n",
        "\n",
        "a=[]\n",
        "for i in range (len(books)):\n",
        "  au=books[i][1]\n",
        "  a.append(au)\n",
        "  print(au)\n",
        "\n",
        "\n",
        "genres = []\n",
        "counts = []\n",
        "for i in range(4):\n",
        "    g = books[i][2]\n",
        "    found = 0\n",
        "    for j in range(len(genres)):\n",
        "        if genres[j] == g:\n",
        "            counts[j] = counts[j] + 1\n",
        "            found = 1\n",
        "    if found == 0:\n",
        "        genres += [g]\n",
        "        counts += [1]\n",
        "for i in range(len(genres)):\n",
        "    print(genres[i], \":\", counts[i])\n",
        "\n",
        "\n",
        "b_d =[]\n",
        "for i in range(4):\n",
        "    title = books[i][0]\n",
        "    author = books[i][1]\n",
        "    genre = books[i][2]\n",
        "    b_d.append({'title': title, 'author': author, 'genre': genre})\n",
        "for i in range(4):\n",
        "    print(b_d[i])"
      ],
      "metadata": {
        "colab": {
          "base_uri": "https://localhost:8080/"
        },
        "id": "_qCOQ6YmWUNZ",
        "outputId": "b84cb923-2180-41b1-f5c1-ee05ca7b4666"
      },
      "execution_count": null,
      "outputs": [
        {
          "output_type": "stream",
          "name": "stdout",
          "text": [
            "1984\n",
            "the alchemist\n",
            "A.P.J.abdul kalam\n",
            "george orwell\n",
            "paulo coelho\n",
            "peter thiel\n",
            "biography : 1\n",
            "fiction : 2\n",
            "buisness : 1\n",
            "{'title': 'wings of fire', 'author': 'A.P.J.abdul kalam', 'genre': 'biography'}\n",
            "{'title': '1984', 'author': 'george orwell', 'genre': 'fiction'}\n",
            "{'title': 'the alchemist', 'author': 'paulo coelho', 'genre': 'fiction'}\n",
            "{'title': 'zero to one', 'author': 'peter thiel', 'genre': 'buisness'}\n"
          ]
        }
      ]
    },
    {
      "cell_type": "markdown",
      "source": [
        "Employee Skills Directory\n",
        "\n",
        "Each record = [employee_name, skill1, skill2, skill3]\n",
        "\n",
        "employees = [\n",
        "    [\"Arun\", \"Python\", \"SQL\", \"Excel\"],\n",
        "    [\"Divya\", \"Tableau\", \"Python\", \"Power BI\"],\n",
        "    [\"Rahul\", \"Excel\", \"Communication\", \"SQL\"],\n",
        "    [\"Meena\", \"Python\", \"ML\", \"DL\"]\n",
        "]\n",
        "\n",
        "\n",
        "1. List all employees skilled in 'Python'.\n",
        "2. Count frequency of each skill.\n",
        "3. Create skill-wise index: {'Python': ['Arun', 'Divya', 'Meena'], ...}\n",
        "4. Check if any employee has all three of 'Python', 'SQL', 'Excel'."
      ],
      "metadata": {
        "id": "rZrfKaewL1Dj"
      }
    },
    {
      "cell_type": "code",
      "source": [
        "e = [\n",
        "    [\"Arun\", \"Python\", \"SQL\", \"Excel\"],\n",
        "    [\"Divya\", \"Tableau\", \"Python\", \"Power BI\"],\n",
        "    [\"Rahul\", \"Excel\", \"Communication\", \"SQL\"],\n",
        "    [\"Meena\", \"Python\", \"ML\", \"DL\"]\n",
        "]\n",
        "\n",
        "for i in range(4):\n",
        "    for j in range(1, 4):\n",
        "        if e[i][j] == \"Python\":\n",
        "            print(e[i][0])\n",
        "\n",
        "s_c = []\n",
        "for i in range(4):\n",
        "    for j in range(1, 4):\n",
        "        skill = e[i][j]\n",
        "        fount = 0\n",
        "        for k in range(len(s_c)):\n",
        "            if s_c[k][0] == skill:\n",
        "               s_c[k][1] +=1\n",
        "               fount = 1\n",
        "        if fount == 0:\n",
        "            s_c.append([skill, 1])\n",
        "print(s_c)\n",
        "\n",
        "s_i=[]\n",
        "for i in range(4):\n",
        "  n = e[i][0]\n",
        "  for j in range(1,4):\n",
        "    s=e[i][j]\n",
        "    found=0\n",
        "    for k in range(len(s_i)):\n",
        "      if s_i[k][0]== s:\n",
        "        s_i[k][1].append(n)\n",
        "        found=1\n",
        "    if found == 0:\n",
        "      s_i.append([s,[n]])\n",
        "\n",
        "print(\" all 3 skills (Python, SQL, Excel):\")\n",
        "\n",
        "for i in range(4):\n",
        "    has_python = 0\n",
        "    has_sql = 0\n",
        "    has_excel = 0\n",
        "\n",
        "    for j in range(1, 4):\n",
        "        if e[i][j] == \"Python\":\n",
        "            has_python = 1\n",
        "        elif e[i][j] == \"SQL\":\n",
        "            has_sql = 1\n",
        "        elif e[i][j] == \"Excel\":\n",
        "            has_excel = 1\n",
        "\n",
        "    if has_python == 1 and has_sql == 1 and has_excel == 1:\n",
        "        print(e[i][0])\n"
      ],
      "metadata": {
        "colab": {
          "base_uri": "https://localhost:8080/"
        },
        "id": "GGlQxdzcunxy",
        "outputId": "bd65dc8a-e4c0-4e47-f102-db690d25fbd1"
      },
      "execution_count": null,
      "outputs": [
        {
          "output_type": "stream",
          "name": "stdout",
          "text": [
            "Arun\n",
            "Divya\n",
            "Meena\n",
            "[['Python', 3], ['SQL', 2], ['Excel', 2], ['Tableau', 1], ['Power BI', 1], ['Communication', 1], ['ML', 1], ['DL', 1]]\n",
            " all 3 skills (Python, SQL, Excel):\n",
            "Arun\n"
          ]
        }
      ]
    },
    {
      "cell_type": "markdown",
      "source": [
        "6: Plot Booking Dashboard\n",
        "\n",
        "Each record [plot_id, customer_name, area_in_sqft, booking status]\n",
        "\n",
        "plots = [\n",
        "    [\"P101\", \"Arun\", 1200, \"Booked\"],\n",
        "    [\"P102\", \"Divya\", 1500, \"Available\"],\n",
        "    [\"P103\", \"Meena\", 1000, \"Booked\"],\n",
        "    [\"P104\", \"None\", 1300, \"Available\"]\n",
        "]\n",
        "\n",
        "\n",
        "Tasks:\n",
        "\n",
        "1. Count how many plots are booked.\n",
        "2. List all available plots.\n",
        "3. Print customer names and plot IDs for booked plots.\n",
        "4. Add a new booking and update the list"
      ],
      "metadata": {
        "id": "xXxfDWfDMOfY"
      }
    },
    {
      "cell_type": "code",
      "source": [
        "p = [\n",
        "    [\"P101\", \"Arun\", 1200, \"Booked\"],\n",
        "    [\"P102\", \"Divya\", 1500, \"Available\"],\n",
        "    [\"P103\", \"Meena\", 1000, \"Booked\"],\n",
        "    [\"P104\", \"None\", 1300, \"Available\"]\n",
        "]\n",
        "b_c=0\n",
        "for i in range (4):\n",
        "  if p[i][3] == \"Booked\":\n",
        "    b_c=b_c+1\n",
        "print(b_c)\n",
        "\n",
        "\n",
        "for i in range(4):\n",
        "  if p[i][3] == \"Available\":\n",
        "    print(p[i][0])\n",
        "\n",
        "\n",
        "for i in range(4):\n",
        "  if p[i][3]== \"Booked\":\n",
        "    print(\"cus:\",p[i][1],\"p-id:\",p[i][0])\n",
        "\n",
        "p.append([\"P106\", \"vp\", 1126, \"Booked\"])\n",
        "for i in range(len(p)):\n",
        "  print(p[i][0],p[i][1],p[i][2],p[i][3])"
      ],
      "metadata": {
        "colab": {
          "base_uri": "https://localhost:8080/"
        },
        "id": "YpEkbvUnJcLY",
        "outputId": "c06b1475-9fc4-4c14-82a0-def5a5131bcd"
      },
      "execution_count": null,
      "outputs": [
        {
          "output_type": "stream",
          "name": "stdout",
          "text": [
            "2\n",
            "P102\n",
            "P104\n",
            "cus: Arun p-id: P101\n",
            "cus: Meena p-id: P103\n",
            "P101 Arun 1200 Booked\n",
            "P102 Divya 1500 Available\n",
            "P103 Meena 1000 Booked\n",
            "P104 None 1300 Available\n",
            "P106 vp 1126 Booked\n"
          ]
        }
      ]
    },
    {
      "cell_type": "markdown",
      "source": [
        "Installment Tracker\n",
        "\n",
        "Each record = [customer_name, total_amount, paid_amount, due_amount]\n",
        "\n",
        "payments = [\n",
        "    [\"Arun\", 600000, 300000, 300000],\n",
        "    [\"Divya\", 750000, 750000, 0],\n",
        "    [\"Meena\", 500000, 100000, 400000],\n",
        "    [\"Kumar\", 900000, 600000, 300000]\n",
        "]\n",
        "\n",
        "Tasks:\n",
        "\n",
        "1. Print names of customers with dues.\n",
        "2. Calculate percentage paid by each customer.\n",
        "3. Identify fully paid customers.\n",
        "4. Update a payment and recalculate dues."
      ],
      "metadata": {
        "id": "mHf5JxFdMhAW"
      }
    },
    {
      "cell_type": "code",
      "source": [
        "pay = [\n",
        "    [\"Arun\", 600000, 300000, 300000],\n",
        "    [\"Divya\", 750000, 750000, 0],\n",
        "    [\"Meena\", 500000, 100000, 400000],\n",
        "    [\"Kumar\", 900000, 600000, 300000]\n",
        "]\n",
        "\n",
        "for i in range(4):\n",
        "  if pay[i][3] >0:\n",
        "    print(pay[i][0])\n",
        "\n",
        "for i in range(4):\n",
        "  total=pay[i][1]\n",
        "  paid=pay[i][2]\n",
        "  pe=(paid*100)/total\n",
        "  print(pay[i][0]+\":\",pe,\"%\")\n",
        "\n",
        "\n",
        "\n",
        "\n",
        "for i in range(4):\n",
        "    if pay[i][3] == 0:\n",
        "        print(pay[i][0])\n",
        "\n",
        "\n",
        "\n",
        "for i in range(4):\n",
        "    if pay[i][0] == \"Meena\":\n",
        "        pay[i][2] = pay[i][2] + 200000\n",
        "        pay[i][3] = pay[i][1] - pay[i][2]\n",
        "for i in range(4):\n",
        "    if pay[i][0] == \"Meena\":\n",
        "        print(pay[i][0], pay[i][1], pay[i][2], pay[i][3])\n"
      ],
      "metadata": {
        "colab": {
          "base_uri": "https://localhost:8080/"
        },
        "id": "zTSaKLfuRpos",
        "outputId": "0c96d95d-daa3-4651-fe8e-27b3b0b1c537"
      },
      "execution_count": null,
      "outputs": [
        {
          "output_type": "stream",
          "name": "stdout",
          "text": [
            "Arun\n",
            "Meena\n",
            "Kumar\n",
            "Arun: 50.0 %\n",
            "Divya: 100.0 %\n",
            "Meena: 20.0 %\n",
            "Kumar: 66.66666666666667 %\n",
            "Divya\n",
            "Meena 500000 300000 200000\n"
          ]
        }
      ]
    },
    {
      "cell_type": "markdown",
      "source": [
        "Plot Location & Facing Info\n",
        "\n",
        "Each record [plot_id, location, facing]\n",
        "\n",
        "plot_info = [\n",
        "    [\"P101\", \"North Layout\", \"East\"],\n",
        "    [\"P102\", \"North Layout\", \"West\"],\n",
        "    [\"P103\", \"South Layout\", \"North\"],\n",
        "    [\"P104\", \"East Layout\", \"East\"]\n",
        "]\n",
        "\n",
        "\n",
        "Tasks:\n",
        "\n",
        "1. List all plots in 'North Layout'.\n",
        "2. Count plots facing East.\n",
        "3. Search for a plot by ID and display its details.\n",
        "4. Group plots by layout location"
      ],
      "metadata": {
        "id": "53RYouNkMztr"
      }
    },
    {
      "cell_type": "code",
      "source": [
        "plot_info = [\n",
        "    [\"P101\", \"North Layout\", \"East\"],\n",
        "    [\"P102\", \"North Layout\", \"West\"],\n",
        "    [\"P103\", \"South Layout\", \"North\"],\n",
        "    [\"P104\", \"East Layout\", \"East\"]\n",
        "]\n",
        "for i in range(4):\n",
        "    if plot_info[i][1] == \"North Layout\":\n",
        "        print(plot_info[i][0])\n",
        "\n",
        "e_c = 0\n",
        "for i in range(4):\n",
        "    if plot_info[i][2] == \"East\":\n",
        "        e_c +=1\n",
        "print( e_c)\n",
        "\n",
        "\n",
        "\n",
        "search_id = \"P103\"\n",
        "found = 0\n",
        "for i in range(4):\n",
        "    if plot_info[i][0] == search_id:\n",
        "        print(\"Plot ID:\", plot_info[i][0])\n",
        "        print(\"Location:\", plot_info[i][1])\n",
        "        print(\"Facing:\", plot_info[i][2])\n",
        "        found = 1\n",
        "if found == 0:\n",
        "    print(\"Plot not found.\")\n",
        "\n",
        "\n",
        "\n",
        "l_o = []\n",
        "for i in range(4):\n",
        "    if plot_info[i][1] not in l_o:\n",
        "        l_o.append(plot_info[i][1])\n",
        "for i in range(len(l_o)):\n",
        "    print(l_o[i] + \":\")\n",
        "    for j in range(4):\n",
        "        if plot_info[j][1] == l_o[i]:\n",
        "            print(\" \", plot_info[j][0])\n"
      ],
      "metadata": {
        "id": "rjBxOwEJkqQg",
        "colab": {
          "base_uri": "https://localhost:8080/"
        },
        "outputId": "c716fc81-b796-4d44-9341-68057007a7f0"
      },
      "execution_count": null,
      "outputs": [
        {
          "output_type": "stream",
          "name": "stdout",
          "text": [
            "P101\n",
            "P102\n",
            "2\n",
            "Plot ID: P103\n",
            "Location: South Layout\n",
            "Facing: North\n",
            "North Layout:\n",
            "  P101\n",
            "  P102\n",
            "South Layout:\n",
            "  P103\n",
            "East Layout:\n",
            "  P104\n"
          ]
        }
      ]
    }
  ]
}