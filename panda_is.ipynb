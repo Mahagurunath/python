{
  "nbformat": 4,
  "nbformat_minor": 0,
  "metadata": {
    "colab": {
      "provenance": [],
      "authorship_tag": "ABX9TyOQKbHelqkontYsjQG6zLNW",
      "include_colab_link": true
    },
    "kernelspec": {
      "name": "python3",
      "display_name": "Python 3"
    },
    "language_info": {
      "name": "python"
    }
  },
  "cells": [
    {
      "cell_type": "markdown",
      "metadata": {
        "id": "view-in-github",
        "colab_type": "text"
      },
      "source": [
        "<a href=\"https://colab.research.google.com/github/Mahagurunath/python/blob/main/panda_is.ipynb\" target=\"_parent\"><img src=\"https://colab.research.google.com/assets/colab-badge.svg\" alt=\"Open In Colab\"/></a>"
      ]
    },
    {
      "cell_type": "markdown",
      "source": [
        "Pandas Series\n",
        "\n",
        "1.\tCreate a Series of five fruit names and print it."
      ],
      "metadata": {
        "id": "s2tv0b02RZeJ"
      }
    },
    {
      "cell_type": "code",
      "source": [
        "import pandas as pd\n",
        "fruit=pd.Series(['apple','mango','banana','orange','green apple'])\n",
        "print(fruit)"
      ],
      "metadata": {
        "colab": {
          "base_uri": "https://localhost:8080/"
        },
        "id": "skOzKhLERSrk",
        "outputId": "e1879ce7-9e20-4961-e519-db8192a1a808"
      },
      "execution_count": null,
      "outputs": [
        {
          "output_type": "stream",
          "name": "stdout",
          "text": [
            "0          apple\n",
            "1          mango\n",
            "2         banana\n",
            "3         orange\n",
            "4    green apple\n",
            "dtype: object\n"
          ]
        }
      ]
    },
    {
      "cell_type": "markdown",
      "source": [
        "2.\tCreate a Series of 5 even numbers and find the sum."
      ],
      "metadata": {
        "id": "TBKY_PiIRv8a"
      }
    },
    {
      "cell_type": "code",
      "source": [
        "import pandas as pd\n",
        "marks=pd.Series([2,4,6,8,10])\n",
        "print(marks.sum())"
      ],
      "metadata": {
        "colab": {
          "base_uri": "https://localhost:8080/"
        },
        "id": "TrvlFxHSTtEA",
        "outputId": "857607ac-5324-4686-bfdb-e1042bfc5d37"
      },
      "execution_count": null,
      "outputs": [
        {
          "output_type": "stream",
          "name": "stdout",
          "text": [
            "30\n"
          ]
        }
      ]
    },
    {
      "cell_type": "markdown",
      "source": [
        "3.\tCreate a Series with subject names as index and marks as values"
      ],
      "metadata": {
        "id": "q_ooKg-WR0fB"
      }
    },
    {
      "cell_type": "code",
      "source": [
        "import pandas as pd\n",
        "mark=pd.Series([45,78,67],index=['math','science','social'])\n",
        "print(mark)"
      ],
      "metadata": {
        "colab": {
          "base_uri": "https://localhost:8080/"
        },
        "id": "BZQofV2EUkP0",
        "outputId": "2bbb5ff4-74cd-41d2-ee3a-78f84e1667fe"
      },
      "execution_count": null,
      "outputs": [
        {
          "output_type": "stream",
          "name": "stdout",
          "text": [
            "math       45\n",
            "science    78\n",
            "social     67\n",
            "dtype: int64\n"
          ]
        }
      ]
    },
    {
      "cell_type": "markdown",
      "source": [
        "4.\tGet the maximum and minimum marks from the Series in Q3."
      ],
      "metadata": {
        "id": "QlXmYSm_R6Ks"
      }
    },
    {
      "cell_type": "code",
      "source": [
        "import pandas as pd\n",
        "marks=pd.Series([2,4,6,8,10])\n",
        "print(marks.max())\n",
        "print(marks.min())\n",
        "\n"
      ],
      "metadata": {
        "colab": {
          "base_uri": "https://localhost:8080/"
        },
        "id": "UmFK6ijYV0N-",
        "outputId": "e89c3a5f-eba8-4b5a-cdd4-20017e6e3f1b"
      },
      "execution_count": null,
      "outputs": [
        {
          "output_type": "stream",
          "name": "stdout",
          "text": [
            "10\n",
            "2\n"
          ]
        }
      ]
    },
    {
      "cell_type": "markdown",
      "source": [
        "5.\tCreate a Series from a dictionary of country-capital pairs"
      ],
      "metadata": {
        "id": "h9uro6kfR8z2"
      }
    },
    {
      "cell_type": "code",
      "source": [
        "import pandas as pd\n",
        "capitals=pd.Series({'india':'newdelhi','USA':'washington','UK':'london'})\n",
        "print(capitals)\n"
      ],
      "metadata": {
        "colab": {
          "base_uri": "https://localhost:8080/"
        },
        "id": "rnUVEpafWKKn",
        "outputId": "d6c9f06e-77a3-4ff9-d26f-224ecc12b1ad"
      },
      "execution_count": null,
      "outputs": [
        {
          "output_type": "stream",
          "name": "stdout",
          "text": [
            "india      newdelhi\n",
            "USA      washington\n",
            "UK           london\n",
            "dtype: object\n"
          ]
        }
      ]
    },
    {
      "cell_type": "markdown",
      "source": [
        "6.\tAccess the capital of 'India' from the above Series."
      ],
      "metadata": {
        "id": "ZO_PnXB1SAzg"
      }
    },
    {
      "cell_type": "code",
      "source": [
        "import pandas as pd\n",
        "capitals=pd.Series({'india':'newdelhi','USA':'washington','UK':'london'})\n",
        "print(capitals['UK'])\n",
        "\n"
      ],
      "metadata": {
        "colab": {
          "base_uri": "https://localhost:8080/"
        },
        "id": "8oP4r7xVX5QL",
        "outputId": "8a70d07d-2909-470a-be57-78514df51380"
      },
      "execution_count": null,
      "outputs": [
        {
          "output_type": "stream",
          "name": "stdout",
          "text": [
            "london\n"
          ]
        }
      ]
    },
    {
      "cell_type": "markdown",
      "source": [
        "7.\tCreate a Series of temperatures for a week and find the average."
      ],
      "metadata": {
        "id": "nGZbUwlJSFKN"
      }
    },
    {
      "cell_type": "code",
      "source": [
        "import pandas as pd\n",
        "temps=pd.Series([32,45,42,52,54,34,64],index=['monday','tuesday','wednesday','thursday','friday','saturday','sunday'])\n",
        "print(temps.mean())"
      ],
      "metadata": {
        "colab": {
          "base_uri": "https://localhost:8080/"
        },
        "id": "AaQGtypSYct4",
        "outputId": "09d0a9c9-0a62-4a6e-ae41-77d1a3d4cc9b"
      },
      "execution_count": null,
      "outputs": [
        {
          "output_type": "stream",
          "name": "stdout",
          "text": [
            "46.142857142857146\n"
          ]
        }
      ]
    },
    {
      "cell_type": "markdown",
      "source": [
        "8.\tCheck which temperatures are above 30."
      ],
      "metadata": {
        "id": "zJWwWGJkSLOU"
      }
    },
    {
      "cell_type": "code",
      "source": [
        "import pandas as pd\n",
        "temps=pd.Series([1,26,11,9,54,34,64],index=['monday','tuesday','wednesday','thursday','friday','saturday','sunday'])\n",
        "print(temps[temps>30])"
      ],
      "metadata": {
        "colab": {
          "base_uri": "https://localhost:8080/"
        },
        "id": "kvZBrEXoZL6o",
        "outputId": "9b1d4e52-e773-4481-8aba-5e844d419201"
      },
      "execution_count": null,
      "outputs": [
        {
          "output_type": "stream",
          "name": "stdout",
          "text": [
            "friday      54\n",
            "saturday    34\n",
            "sunday      64\n",
            "dtype: int64\n"
          ]
        }
      ]
    },
    {
      "cell_type": "markdown",
      "source": [
        "9.\tCreate a Series with custom string index ['a', 'b', 'c', 'd']."
      ],
      "metadata": {
        "id": "lKGzLtjDSPTX"
      }
    },
    {
      "cell_type": "code",
      "source": [
        "import pandas as pd\n",
        "custom_string=pd.Series([1,26,11,9],index=['a','b','c','d'])\n",
        "print(custom_string)"
      ],
      "metadata": {
        "colab": {
          "base_uri": "https://localhost:8080/"
        },
        "id": "4L7705CoaSN-",
        "outputId": "833e97da-b043-46a6-a4c0-689df7a5391d"
      },
      "execution_count": null,
      "outputs": [
        {
          "output_type": "stream",
          "name": "stdout",
          "text": [
            "a     1\n",
            "b    26\n",
            "c    11\n",
            "d     9\n",
            "dtype: int64\n"
          ]
        }
      ]
    },
    {
      "cell_type": "markdown",
      "source": [
        "10.\tCreate a Series where each element is a list (nested list) and print the type of each element."
      ],
      "metadata": {
        "id": "HkDdAL06SXsp"
      }
    },
    {
      "cell_type": "code",
      "source": [
        "import pandas as pd\n",
        "nested=pd.Series([[1,2],[3,4],[5,6],[7,8],[9,0]])\n",
        "print(nested)\n",
        "for i ,val in nested.items():\n",
        "  print(type(val))"
      ],
      "metadata": {
        "colab": {
          "base_uri": "https://localhost:8080/"
        },
        "id": "XS82BLJia323",
        "outputId": "580de7ca-5237-4514-b826-a72c67f5e9fe"
      },
      "execution_count": null,
      "outputs": [
        {
          "output_type": "stream",
          "name": "stdout",
          "text": [
            "0    [1, 2]\n",
            "1    [3, 4]\n",
            "2    [5, 6]\n",
            "3    [7, 8]\n",
            "4    [9, 0]\n",
            "dtype: object\n",
            "<class 'list'>\n",
            "<class 'list'>\n",
            "<class 'list'>\n",
            "<class 'list'>\n",
            "<class 'list'>\n"
          ]
        }
      ]
    },
    {
      "cell_type": "markdown",
      "source": [
        "Pandas DataFrame\n",
        "\n",
        "1.\tCreate a DataFrame with columns 'Name' and 'Age' for 3 people."
      ],
      "metadata": {
        "id": "PrQ_Q2mySceq"
      }
    },
    {
      "cell_type": "code",
      "source": [
        "df=pd.DataFrame({\n",
        "    'namee':['alice','bob','carol'],\n",
        "    'age':[25,30,35],\n",
        "})\n",
        "\n",
        "print(df)"
      ],
      "metadata": {
        "colab": {
          "base_uri": "https://localhost:8080/"
        },
        "id": "ExyG7CmNdZM5",
        "outputId": "8481d5e6-89c2-47a6-d255-8d878d370ce3"
      },
      "execution_count": null,
      "outputs": [
        {
          "output_type": "stream",
          "name": "stdout",
          "text": [
            "   namee  age\n",
            "0  alice   25\n",
            "1    bob   30\n",
            "2  carol   35\n"
          ]
        }
      ]
    },
    {
      "cell_type": "markdown",
      "source": [
        "2.\tAdd a column 'City' with values."
      ],
      "metadata": {
        "id": "XBotj6GNSor6"
      }
    },
    {
      "cell_type": "code",
      "source": [
        "df=pd.DataFrame({\n",
        "    'name':['alice','bob','carol'],\n",
        "    'age':[25,30,35],\n",
        "    'city':['newyork','sanfrancisco','losangeles']\n",
        "})\n",
        "\n",
        "print(df)"
      ],
      "metadata": {
        "colab": {
          "base_uri": "https://localhost:8080/"
        },
        "id": "2s3TQWhMd_Wf",
        "outputId": "1f4526d1-5a5a-4707-9686-bc6e8595bf5f"
      },
      "execution_count": null,
      "outputs": [
        {
          "output_type": "stream",
          "name": "stdout",
          "text": [
            "    nmae  age          city\n",
            "0  alice   25       newyork\n",
            "1    bob   30  sanfrancisco\n",
            "2  carol   35    losangeles\n"
          ]
        }
      ]
    },
    {
      "cell_type": "markdown",
      "source": [
        "3.\tSelect only the 'Name' column."
      ],
      "metadata": {
        "id": "fP40AjdOSvpN"
      }
    },
    {
      "cell_type": "code",
      "source": [
        "df=pd.DataFrame({\n",
        "    'name':['alice','bob','carol'],\n",
        "    'age':[25,30,35],\n",
        "    'city':['newyork','sanfrancisco','losangeles']\n",
        "})\n",
        "\n",
        "print(df['name'])"
      ],
      "metadata": {
        "colab": {
          "base_uri": "https://localhost:8080/"
        },
        "id": "IEQjV59MeJIy",
        "outputId": "bc59968b-dbf7-4ef8-a2ca-e4c7ed3845c8"
      },
      "execution_count": null,
      "outputs": [
        {
          "output_type": "stream",
          "name": "stdout",
          "text": [
            "0    alice\n",
            "1      bob\n",
            "2    carol\n",
            "Name: name, dtype: object\n"
          ]
        }
      ]
    },
    {
      "cell_type": "markdown",
      "source": [
        "4.\tFilter rows where Age > 25."
      ],
      "metadata": {
        "id": "pjL_8BCWSxzk"
      }
    },
    {
      "cell_type": "code",
      "source": [
        "df=pd.DataFrame({\n",
        "    'name':['alice','bob','carol'],\n",
        "    'age':[25,30,35],\n",
        "    'city':['newyork','sanfrancisco','losangeles']\n",
        "})\n",
        "\n",
        "print(df[df[\"age\"]>25])"
      ],
      "metadata": {
        "colab": {
          "base_uri": "https://localhost:8080/"
        },
        "id": "vToGr7ZfethV",
        "outputId": "778772df-7bb5-4dd1-b0af-a861adeffc12"
      },
      "execution_count": null,
      "outputs": [
        {
          "output_type": "stream",
          "name": "stdout",
          "text": [
            "    name  age          city\n",
            "1    bob   30  sanfrancisco\n",
            "2  carol   35    losangeles\n"
          ]
        }
      ]
    },
    {
      "cell_type": "markdown",
      "source": [
        "5.\tAdd a new column 'Status' with a constant value 'Active'."
      ],
      "metadata": {
        "id": "H-OUvdo3S2Ik"
      }
    },
    {
      "cell_type": "code",
      "source": [
        "df=pd.DataFrame({\n",
        "    'name':['alice','bob','carol'],\n",
        "    'age':[25,30,35],\n",
        "    'city':['newyork','sanfrancisco','losangeles']\n",
        "})\n",
        "df[\"status\"]=\"Active\"\n",
        "print(df)"
      ],
      "metadata": {
        "colab": {
          "base_uri": "https://localhost:8080/"
        },
        "id": "MEXjixV9fB5A",
        "outputId": "03443a45-be22-4d58-cf70-875f1626954e"
      },
      "execution_count": null,
      "outputs": [
        {
          "output_type": "stream",
          "name": "stdout",
          "text": [
            "    name  age          city  status\n",
            "0  alice   25       newyork  Active\n",
            "1    bob   30  sanfrancisco  Active\n",
            "2  carol   35    losangeles  Active\n"
          ]
        }
      ]
    },
    {
      "cell_type": "markdown",
      "source": [
        "6.\tCreate a DataFrame of 3 products with Price and Quantity."
      ],
      "metadata": {
        "id": "NY9kpUWOS67o"
      }
    },
    {
      "cell_type": "code",
      "source": [
        "df=pd.DataFrame({\n",
        "    'product':['pen','pencil','led'],\n",
        "    'price':[3,6,7],\n",
        "    'quantity':[3,2,7]\n",
        "})\n",
        "print(df)"
      ],
      "metadata": {
        "colab": {
          "base_uri": "https://localhost:8080/"
        },
        "id": "nBnu1yAmgWoC",
        "outputId": "e8114117-d2cc-4139-bc9d-61a9a870b36a"
      },
      "execution_count": null,
      "outputs": [
        {
          "output_type": "stream",
          "name": "stdout",
          "text": [
            "  product  price  quantity\n",
            "0     pen      3         3\n",
            "1  pencil      6         2\n",
            "2     led      7         7\n"
          ]
        }
      ]
    },
    {
      "cell_type": "markdown",
      "source": [
        "7.\tAdd a column 'Total' = Price × Quantity."
      ],
      "metadata": {
        "id": "u77ts-WPTZMs"
      }
    },
    {
      "cell_type": "code",
      "source": [
        "df=pd.DataFrame({\n",
        "    'product':['pen','pencil','led'],\n",
        "    'price':[3,6,7],\n",
        "   'quantity':[3,2,7]\n",
        "})\n",
        "df['total']=df['price']*df['quantity']\n",
        "print(df)\n"
      ],
      "metadata": {
        "colab": {
          "base_uri": "https://localhost:8080/"
        },
        "id": "9PegQluPhxHH",
        "outputId": "d4f573cc-8c69-448e-c9d0-d832c381095c"
      },
      "execution_count": null,
      "outputs": [
        {
          "output_type": "stream",
          "name": "stdout",
          "text": [
            "  product  price  quantity  total\n",
            "0     pen      3         3      9\n",
            "1  pencil      6         2     12\n",
            "2     led      7         7     49\n"
          ]
        }
      ]
    },
    {
      "cell_type": "markdown",
      "source": [
        "8.\tGet summary statistics using describe()."
      ],
      "metadata": {
        "id": "hZmd_vcaTdcG"
      }
    },
    {
      "cell_type": "code",
      "source": [
        "df=pd.DataFrame({\n",
        "    'product':['pen','pencil','led'],\n",
        "    'price':[3,6,7],\n",
        "   'quantity':[3,2,7]\n",
        "})\n",
        "print(df.describe())\n"
      ],
      "metadata": {
        "colab": {
          "base_uri": "https://localhost:8080/"
        },
        "id": "szttFTd2igDj",
        "outputId": "2c227364-13cf-4141-c7e0-c1d76441fe84"
      },
      "execution_count": null,
      "outputs": [
        {
          "output_type": "stream",
          "name": "stdout",
          "text": [
            "          price  quantity\n",
            "count  3.000000  3.000000\n",
            "mean   5.333333  4.000000\n",
            "std    2.081666  2.645751\n",
            "min    3.000000  2.000000\n",
            "25%    4.500000  2.500000\n",
            "50%    6.000000  3.000000\n",
            "75%    6.500000  5.000000\n",
            "max    7.000000  7.000000\n"
          ]
        }
      ]
    },
    {
      "cell_type": "markdown",
      "source": [
        "9.\tCreate a DataFrame using a list of lists."
      ],
      "metadata": {
        "id": "RgfPTLRCTiwO"
      }
    },
    {
      "cell_type": "code",
      "source": [
        "data=[\n",
        "    [\"guru\",1],\n",
        "    [\"priya\",26]\n",
        "]\n",
        "list=pd.DataFrame(data,columns=['name','data'])\n",
        "print(list)"
      ],
      "metadata": {
        "colab": {
          "base_uri": "https://localhost:8080/"
        },
        "id": "VO3XcVYEkYg6",
        "outputId": "a5199f1f-47e4-4dbc-eaca-6b330857ff54"
      },
      "execution_count": null,
      "outputs": [
        {
          "output_type": "stream",
          "name": "stdout",
          "text": [
            "    name  data\n",
            "0   guru     1\n",
            "1  priya    26\n"
          ]
        }
      ]
    },
    {
      "cell_type": "markdown",
      "source": [
        "\n",
        "10.\tSort the DataFrame by 'Price' in descending order."
      ],
      "metadata": {
        "id": "Fg1xfj-5Tgbp"
      }
    },
    {
      "cell_type": "code",
      "source": [
        "df=pd.DataFrame({\n",
        "    'product':['pen','pencil','led'],\n",
        "    'price':[3,6,7],\n",
        "   'quantity':[3,2,7]\n",
        "})\n",
        "sorted_products=df.sort_values(by='price',ascending=False)\n",
        "print(sorted_products)"
      ],
      "metadata": {
        "colab": {
          "base_uri": "https://localhost:8080/"
        },
        "id": "hQEYHxWnunVU",
        "outputId": "db51f1f9-ce9f-4526-cfd0-379e70cb5614"
      },
      "execution_count": null,
      "outputs": [
        {
          "output_type": "stream",
          "name": "stdout",
          "text": [
            "  product  price  quantity\n",
            "2     led      7         7\n",
            "1  pencil      6         2\n",
            "0     pen      3         3\n"
          ]
        }
      ]
    }
  ]
}