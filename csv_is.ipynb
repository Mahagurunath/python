{
  "nbformat": 4,
  "nbformat_minor": 0,
  "metadata": {
    "colab": {
      "provenance": [],
      "authorship_tag": "ABX9TyPH/Nwtszr9YQRHwhDm2NPi",
      "include_colab_link": true
    },
    "kernelspec": {
      "name": "python3",
      "display_name": "Python 3"
    },
    "language_info": {
      "name": "python"
    }
  },
  "cells": [
    {
      "cell_type": "markdown",
      "metadata": {
        "id": "view-in-github",
        "colab_type": "text"
      },
      "source": [
        "<a href=\"https://colab.research.google.com/github/Mahagurunath/python/blob/main/csv_is.ipynb\" target=\"_parent\"><img src=\"https://colab.research.google.com/assets/colab-badge.svg\" alt=\"Open In Colab\"/></a>"
      ]
    },
    {
      "cell_type": "code",
      "execution_count": null,
      "metadata": {
        "id": "L78VVk1YPhlo"
      },
      "outputs": [],
      "source": [
        "import pandas as pd\n",
        "df = pd.read_csv(\"50_Startups.csv\")"
      ]
    },
    {
      "cell_type": "markdown",
      "source": [
        "Basic Exploration\n",
        "\n",
        "1.\tDisplay the first 10 rows of the dataset."
      ],
      "metadata": {
        "id": "J8IBnexXVtv4"
      }
    },
    {
      "cell_type": "code",
      "source": [
        "print(df.head(10))"
      ],
      "metadata": {
        "colab": {
          "base_uri": "https://localhost:8080/"
        },
        "id": "n-7B5IdhVTUo",
        "outputId": "3d488f4c-0768-4808-9357-13680e84d070"
      },
      "execution_count": null,
      "outputs": [
        {
          "output_type": "stream",
          "name": "stdout",
          "text": [
            "   R&D Spend  Administration  Marketing Spend       State     Profit\n",
            "0  165349.20       136897.80        471784.10    New York  192261.83\n",
            "1  162597.70       151377.59        443898.53  California  191792.06\n",
            "2  153441.51       101145.55        407934.54     Florida  191050.39\n",
            "3  144372.41       118671.85        383199.62    New York  182901.99\n",
            "4  142107.34        91391.77        366168.42     Florida  166187.94\n",
            "5  131876.90        99814.71        362861.36    New York  156991.12\n",
            "6  134615.46       147198.87        127716.82  California  156122.51\n",
            "7  130298.13       145530.06        323876.68     Florida  155752.60\n",
            "8  120542.52       148718.95        311613.29    New York  152211.77\n",
            "9  123334.88       108679.17        304981.62  California  149759.96\n"
          ]
        }
      ]
    },
    {
      "cell_type": "markdown",
      "source": [
        "2.\tShow the total number of rows and columns."
      ],
      "metadata": {
        "id": "b3E3_AU5V1go"
      }
    },
    {
      "cell_type": "code",
      "source": [
        "print(\"Rows:\", df.shape[0], \"Columns:\", df.shape[1])\n"
      ],
      "metadata": {
        "colab": {
          "base_uri": "https://localhost:8080/"
        },
        "id": "w--Mi2eGVivR",
        "outputId": "4ce3b895-d805-4b50-8367-3205be823cd9"
      },
      "execution_count": null,
      "outputs": [
        {
          "output_type": "stream",
          "name": "stdout",
          "text": [
            "Rows: 50 Columns: 5\n"
          ]
        }
      ]
    },
    {
      "cell_type": "markdown",
      "source": [
        "3.\tPrint the names of all the columns."
      ],
      "metadata": {
        "id": "kqXDjORkWGBq"
      }
    },
    {
      "cell_type": "code",
      "source": [
        "print(df.columns.tolist())\n"
      ],
      "metadata": {
        "colab": {
          "base_uri": "https://localhost:8080/"
        },
        "id": "vOHuUJokVna4",
        "outputId": "96f29b17-caae-49b6-ad1f-034787a2a021"
      },
      "execution_count": null,
      "outputs": [
        {
          "output_type": "stream",
          "name": "stdout",
          "text": [
            "['R&D Spend', 'Administration', 'Marketing Spend', 'State', 'Profit']\n"
          ]
        }
      ]
    },
    {
      "cell_type": "markdown",
      "source": [
        "4.\tDisplay summary statistics for all numerical columns."
      ],
      "metadata": {
        "id": "YDWvfV6gWKf-"
      }
    },
    {
      "cell_type": "code",
      "source": [
        "print( df.describe())"
      ],
      "metadata": {
        "colab": {
          "base_uri": "https://localhost:8080/"
        },
        "id": "kRLZOF1tWflq",
        "outputId": "d1c012a5-c9c7-4efc-c362-5fc554715470"
      },
      "execution_count": null,
      "outputs": [
        {
          "output_type": "stream",
          "name": "stdout",
          "text": [
            "           R&D Spend  Administration  Marketing Spend         Profit\n",
            "count      50.000000       50.000000        50.000000      50.000000\n",
            "mean    73721.615600   121344.639600    211025.097800  112012.639200\n",
            "std     45902.256482    28017.802755    122290.310726   40306.180338\n",
            "min         0.000000    51283.140000         0.000000   14681.400000\n",
            "25%     39936.370000   103730.875000    129300.132500   90138.902500\n",
            "50%     73051.080000   122699.795000    212716.240000  107978.190000\n",
            "75%    101602.800000   144842.180000    299469.085000  139765.977500\n",
            "max    165349.200000   182645.560000    471784.100000  192261.830000\n"
          ]
        }
      ]
    },
    {
      "cell_type": "markdown",
      "source": [
        "5.\tFind the data type of each column."
      ],
      "metadata": {
        "id": "66JbHl-8WTi5"
      }
    },
    {
      "cell_type": "code",
      "source": [
        "print( df.dtypes)"
      ],
      "metadata": {
        "colab": {
          "base_uri": "https://localhost:8080/"
        },
        "id": "WdbI-IQ3WqWN",
        "outputId": "5b2f274d-ea49-4d2a-d73f-86f4c01b25a0"
      },
      "execution_count": null,
      "outputs": [
        {
          "output_type": "stream",
          "name": "stdout",
          "text": [
            "R&D Spend          float64\n",
            "Administration     float64\n",
            "Marketing Spend    float64\n",
            "State               object\n",
            "Profit             float64\n",
            "dtype: object\n"
          ]
        }
      ]
    },
    {
      "cell_type": "markdown",
      "source": [
        "Data Access & Selection\n",
        "\n",
        "6.\tAccess the 5th row using .iloc"
      ],
      "metadata": {
        "id": "S8iZ14_vWis4"
      }
    },
    {
      "cell_type": "code",
      "source": [
        "print( df.iloc[4])"
      ],
      "metadata": {
        "colab": {
          "base_uri": "https://localhost:8080/"
        },
        "id": "QScGSFExWxWw",
        "outputId": "8eb1d62e-5a8e-46bd-873b-2a811c89be34"
      },
      "execution_count": null,
      "outputs": [
        {
          "output_type": "stream",
          "name": "stdout",
          "text": [
            "R&D Spend          142107.34\n",
            "Administration      91391.77\n",
            "Marketing Spend    366168.42\n",
            "State                Florida\n",
            "Profit             166187.94\n",
            "Name: 4, dtype: object\n"
          ]
        }
      ]
    },
    {
      "cell_type": "markdown",
      "source": [
        "7.\tRetrieve only the R&D Spend and Profit columns."
      ],
      "metadata": {
        "id": "he2rlutaWp9W"
      }
    },
    {
      "cell_type": "code",
      "source": [
        "print(df[['R&D Spend', 'Profit']])"
      ],
      "metadata": {
        "colab": {
          "base_uri": "https://localhost:8080/"
        },
        "id": "YQMlxaXIW8yG",
        "outputId": "55a3e95b-a5e7-4fdd-accc-08cd035fef4b"
      },
      "execution_count": null,
      "outputs": [
        {
          "output_type": "stream",
          "name": "stdout",
          "text": [
            "    R&D Spend     Profit\n",
            "0   165349.20  192261.83\n",
            "1   162597.70  191792.06\n",
            "2   153441.51  191050.39\n",
            "3   144372.41  182901.99\n",
            "4   142107.34  166187.94\n",
            "5   131876.90  156991.12\n",
            "6   134615.46  156122.51\n",
            "7   130298.13  155752.60\n",
            "8   120542.52  152211.77\n",
            "9   123334.88  149759.96\n",
            "10  101913.08  146121.95\n",
            "11  100671.96  144259.40\n",
            "12   93863.75  141585.52\n",
            "13   91992.39  134307.35\n",
            "14  119943.24  132602.65\n",
            "15  114523.61  129917.04\n",
            "16   78013.11  126992.93\n",
            "17   94657.16  125370.37\n",
            "18   91749.16  124266.90\n",
            "19   86419.70  122776.86\n",
            "20   76253.86  118474.03\n",
            "21   78389.47  111313.02\n",
            "22   73994.56  110352.25\n",
            "23   67532.53  108733.99\n",
            "24   77044.01  108552.04\n",
            "25   64664.71  107404.34\n",
            "26   75328.87  105733.54\n",
            "27   72107.60  105008.31\n",
            "28   66051.52  103282.38\n",
            "29   65605.48  101004.64\n",
            "30   61994.48   99937.59\n",
            "31   61136.38   97483.56\n",
            "32   63408.86   97427.84\n",
            "33   55493.95   96778.92\n",
            "34   46426.07   96712.80\n",
            "35   46014.02   96479.51\n",
            "36   28663.76   90708.19\n",
            "37   44069.95   89949.14\n",
            "38   20229.59   81229.06\n",
            "39   38558.51   81005.76\n",
            "40   28754.33   78239.91\n",
            "41   27892.92   77798.83\n",
            "42   23640.93   71498.49\n",
            "43   15505.73   69758.98\n",
            "44   22177.74   65200.33\n",
            "45    1000.23   64926.08\n",
            "46    1315.46   49490.75\n",
            "47       0.00   42559.73\n",
            "48     542.05   35673.41\n",
            "49       0.00   14681.40\n"
          ]
        }
      ]
    },
    {
      "cell_type": "markdown",
      "source": [
        "8.\tGet the last 3 rows of the dataset."
      ],
      "metadata": {
        "id": "zE-FWdFiW4qk"
      }
    },
    {
      "cell_type": "code",
      "source": [
        "print( df.tail(3))"
      ],
      "metadata": {
        "colab": {
          "base_uri": "https://localhost:8080/"
        },
        "id": "G2VpSZsOXHXx",
        "outputId": "5211f24e-3b93-4be7-bd07-676bcdf65754"
      },
      "execution_count": null,
      "outputs": [
        {
          "output_type": "stream",
          "name": "stdout",
          "text": [
            "    RD_Spend  Administration       State    Profit  Total_Spend\n",
            "47      0.00       135426.92  California  42559.73    135426.92\n",
            "48    542.05        51743.15    New York  35673.41     52285.20\n",
            "49      0.00       116983.80  California  14681.40    162156.86\n"
          ]
        }
      ]
    },
    {
      "cell_type": "markdown",
      "source": [
        "9.\tPrint the profit of the 10th startup."
      ],
      "metadata": {
        "id": "BC3WJ1o1W2E4"
      }
    },
    {
      "cell_type": "code",
      "source": [
        "print( df.loc[9, 'Profit'])"
      ],
      "metadata": {
        "colab": {
          "base_uri": "https://localhost:8080/"
        },
        "id": "cXiJaCj9XNnj",
        "outputId": "e776fa72-e443-4997-e17f-dcbd2f6b5d8e"
      },
      "execution_count": null,
      "outputs": [
        {
          "output_type": "stream",
          "name": "stdout",
          "text": [
            "149759.96\n"
          ]
        }
      ]
    },
    {
      "cell_type": "markdown",
      "source": [
        "10.\tRetrieve rows 10 to 20 (inclusive) with only State and Profit."
      ],
      "metadata": {
        "id": "aJxh7vuQW_Om"
      }
    },
    {
      "cell_type": "code",
      "source": [
        "print( df.loc[10:20, ['State', 'Profit']])"
      ],
      "metadata": {
        "colab": {
          "base_uri": "https://localhost:8080/"
        },
        "id": "A5S6U9c-XUw2",
        "outputId": "7c265bf6-bc06-4341-d119-0de2b78f6a1e"
      },
      "execution_count": null,
      "outputs": [
        {
          "output_type": "stream",
          "name": "stdout",
          "text": [
            "         State     Profit\n",
            "10          FL  146121.95\n",
            "11  California  144259.40\n",
            "12          FL  141585.52\n",
            "13  California  134307.35\n",
            "14          FL  132602.65\n",
            "15    New York  129917.04\n",
            "16  California  126992.93\n",
            "17    New York  125370.37\n",
            "18          FL  124266.90\n",
            "19    New York  122776.86\n",
            "20  California  118474.03\n"
          ]
        }
      ]
    },
    {
      "cell_type": "markdown",
      "source": [
        "Data Cleaning\n",
        "\n",
        "11.\tCheck for missing values in each column."
      ],
      "metadata": {
        "id": "q76mtc-cXISX"
      }
    },
    {
      "cell_type": "code",
      "source": [
        "print( df.isnull().sum())"
      ],
      "metadata": {
        "colab": {
          "base_uri": "https://localhost:8080/"
        },
        "id": "aH8GBqqUYCpS",
        "outputId": "3a76953a-02cb-40ef-f359-01dfc2eddbab"
      },
      "execution_count": null,
      "outputs": [
        {
          "output_type": "stream",
          "name": "stdout",
          "text": [
            "RD_Spend          0\n",
            "Administration    0\n",
            "State             0\n",
            "Profit            0\n",
            "Total_Spend       0\n",
            "dtype: int64\n"
          ]
        }
      ]
    },
    {
      "cell_type": "markdown",
      "source": [
        "12.\tRename the column R&D Spend to RD_Spend."
      ],
      "metadata": {
        "id": "aNInOTpYZHk0"
      }
    },
    {
      "cell_type": "code",
      "source": [
        "df.rename(columns={'R&D Spend': 'RD_Spend'}, inplace=True)\n",
        "print( df.columns)"
      ],
      "metadata": {
        "colab": {
          "base_uri": "https://localhost:8080/"
        },
        "id": "otKvwUJrYKm4",
        "outputId": "3e8d2808-1f4b-4564-d04b-1193e4d004b1"
      },
      "execution_count": null,
      "outputs": [
        {
          "output_type": "stream",
          "name": "stdout",
          "text": [
            "Index(['RD_Spend', 'Administration', 'State', 'Profit', 'Total_Spend'], dtype='object')\n"
          ]
        }
      ]
    },
    {
      "cell_type": "markdown",
      "source": [
        "13.\tCreate a new column called Total_Spend = RD_Spend + Administration + Marketing Spend."
      ],
      "metadata": {
        "id": "nV2ptypyZNtA"
      }
    },
    {
      "cell_type": "code",
      "source": [
        "df['Total_Spend'] = df['RD_Spend'] + df['Administration'] + df['Marketing Spend']\n",
        "print(df['Total_Spend'])"
      ],
      "metadata": {
        "id": "4T--WDowYR5B",
        "colab": {
          "base_uri": "https://localhost:8080/"
        },
        "outputId": "bbad649e-a07c-4150-f3f1-21be55a27a95"
      },
      "execution_count": null,
      "outputs": [
        {
          "output_type": "stream",
          "name": "stdout",
          "text": [
            "0     774031.10\n",
            "1     757873.82\n",
            "2     662521.60\n",
            "3     646243.88\n",
            "4     599667.53\n",
            "5     594552.97\n",
            "6     409531.15\n",
            "7     599704.87\n",
            "8     580874.76\n",
            "9     536995.67\n",
            "10    441668.14\n",
            "11    442207.12\n",
            "12    471023.57\n",
            "13    480152.39\n",
            "14    533003.58\n",
            "15    498916.68\n",
            "16    463956.72\n",
            "17    522309.05\n",
            "18    500844.52\n",
            "19    239933.81\n",
            "20    488785.63\n",
            "21    531900.19\n",
            "22    500096.57\n",
            "23    478052.29\n",
            "24    316900.16\n",
            "25    342180.49\n",
            "26    353514.92\n",
            "27    553155.96\n",
            "28    366845.28\n",
            "29    325775.92\n",
            "30    268767.00\n",
            "31    302056.53\n",
            "32    238713.72\n",
            "33    373186.25\n",
            "34    414917.66\n",
            "35    336579.10\n",
            "36    356846.79\n",
            "37    292382.51\n",
            "38    271442.62\n",
            "39    296539.90\n",
            "40    320096.05\n",
            "41    277074.40\n",
            "42    267831.67\n",
            "43    178422.20\n",
            "44    205318.60\n",
            "45    127057.20\n",
            "46    414246.13\n",
            "47    135426.92\n",
            "48     52285.20\n",
            "49    162156.86\n",
            "Name: Total_Spend, dtype: float64\n"
          ]
        }
      ]
    },
    {
      "cell_type": "markdown",
      "source": [
        "14.\tChange all State values of \"Florida\" to \"FL\"."
      ],
      "metadata": {
        "id": "Lpj5mYyzZVaQ"
      }
    },
    {
      "cell_type": "code",
      "source": [
        "df['State'] = df['State'].replace('Florida', 'FL')\n",
        "print(df['State'])"
      ],
      "metadata": {
        "id": "RgQuwEeUYYlF",
        "colab": {
          "base_uri": "https://localhost:8080/"
        },
        "outputId": "2632a4fe-53ca-457c-e7d7-7943d88a95a5"
      },
      "execution_count": null,
      "outputs": [
        {
          "output_type": "stream",
          "name": "stdout",
          "text": [
            "0       New York\n",
            "1     California\n",
            "2             FL\n",
            "3       New York\n",
            "4             FL\n",
            "5       New York\n",
            "6     California\n",
            "7             FL\n",
            "8       New York\n",
            "9     California\n",
            "10            FL\n",
            "11    California\n",
            "12            FL\n",
            "13    California\n",
            "14            FL\n",
            "15      New York\n",
            "16    California\n",
            "17      New York\n",
            "18            FL\n",
            "19      New York\n",
            "20    California\n",
            "21      New York\n",
            "22            FL\n",
            "23            FL\n",
            "24      New York\n",
            "25    California\n",
            "26            FL\n",
            "27      New York\n",
            "28            FL\n",
            "29      New York\n",
            "30            FL\n",
            "31      New York\n",
            "32    California\n",
            "33            FL\n",
            "34    California\n",
            "35      New York\n",
            "36            FL\n",
            "37    California\n",
            "38      New York\n",
            "39    California\n",
            "40    California\n",
            "41            FL\n",
            "42    California\n",
            "43      New York\n",
            "44    California\n",
            "45      New York\n",
            "46            FL\n",
            "47    California\n",
            "48      New York\n",
            "49    California\n",
            "Name: State, dtype: object\n"
          ]
        }
      ]
    },
    {
      "cell_type": "markdown",
      "source": [
        "15.\tDrop the Marketing Spend column from the DataFrame."
      ],
      "metadata": {
        "id": "HMNtNBYEZaHu"
      }
    },
    {
      "cell_type": "code",
      "source": [
        "if 'Marketing Spend' in df.columns:\n",
        "    df.drop('Marketing Spend', axis=1, inplace=True)\n",
        "print(df.columns)"
      ],
      "metadata": {
        "id": "G7t7-aDOYndS",
        "colab": {
          "base_uri": "https://localhost:8080/"
        },
        "outputId": "902238c3-52c1-4057-dc37-407c4d9778a9"
      },
      "execution_count": null,
      "outputs": [
        {
          "output_type": "stream",
          "name": "stdout",
          "text": [
            "Index(['RD_Spend', 'Administration', 'State', 'Profit', 'Total_Spend'], dtype='object')\n"
          ]
        }
      ]
    },
    {
      "cell_type": "markdown",
      "source": [
        "Filtering & Conditions\n",
        "\n",
        "16.\tList all startups from California"
      ],
      "metadata": {
        "id": "kKosmupIc6qX"
      }
    },
    {
      "cell_type": "code",
      "source": [
        "print(df[df['State']=='California'])"
      ],
      "metadata": {
        "colab": {
          "base_uri": "https://localhost:8080/"
        },
        "id": "Fa5XR3qma7Av",
        "outputId": "55d87253-37b4-43ad-b927-22777360848c"
      },
      "execution_count": null,
      "outputs": [
        {
          "output_type": "stream",
          "name": "stdout",
          "text": [
            "     RD_Spend  Administration       State     Profit  Total_Spend\n",
            "1   162597.70       151377.59  California  191792.06    757873.82\n",
            "6   134615.46       147198.87  California  156122.51    409531.15\n",
            "9   123334.88       108679.17  California  149759.96    536995.67\n",
            "11  100671.96        91790.61  California  144259.40    442207.12\n",
            "13   91992.39       135495.07  California  134307.35    480152.39\n",
            "16   78013.11       121597.55  California  126992.93    463956.72\n",
            "20   76253.86       113867.30  California  118474.03    488785.63\n",
            "25   64664.71       139553.16  California  107404.34    342180.49\n",
            "32   63408.86       129219.61  California   97427.84    238713.72\n",
            "34   46426.07       157693.92  California   96712.80    414917.66\n",
            "37   44069.95        51283.14  California   89949.14    292382.51\n",
            "39   38558.51        82982.09  California   81005.76    296539.90\n",
            "40   28754.33       118546.05  California   78239.91    320096.05\n",
            "42   23640.93        96189.63  California   71498.49    267831.67\n",
            "44   22177.74       154806.14  California   65200.33    205318.60\n",
            "47       0.00       135426.92  California   42559.73    135426.92\n",
            "49       0.00       116983.80  California   14681.40    162156.86\n"
          ]
        }
      ]
    },
    {
      "cell_type": "markdown",
      "source": [
        "17.\tShow startups with Profit greater than 150000."
      ],
      "metadata": {
        "id": "goujp54udEBQ"
      }
    },
    {
      "cell_type": "code",
      "source": [
        "print(df[df['Profit']>150000])"
      ],
      "metadata": {
        "colab": {
          "base_uri": "https://localhost:8080/"
        },
        "id": "bWB8jbv1cq06",
        "outputId": "c717db35-fa3e-4f0e-8f4b-3822395dbd53"
      },
      "execution_count": null,
      "outputs": [
        {
          "output_type": "stream",
          "name": "stdout",
          "text": [
            "    RD_Spend  Administration       State     Profit  Total_Spend\n",
            "0  165349.20       136897.80    New York  192261.83    774031.10\n",
            "1  162597.70       151377.59  California  191792.06    757873.82\n",
            "2  153441.51       101145.55          FL  191050.39    662521.60\n",
            "3  144372.41       118671.85    New York  182901.99    646243.88\n",
            "4  142107.34        91391.77          FL  166187.94    599667.53\n",
            "5  131876.90        99814.71    New York  156991.12    594552.97\n",
            "6  134615.46       147198.87  California  156122.51    409531.15\n",
            "7  130298.13       145530.06          FL  155752.60    599704.87\n",
            "8  120542.52       148718.95    New York  152211.77    580874.76\n"
          ]
        }
      ]
    },
    {
      "cell_type": "markdown",
      "source": [
        "**18**.\tShow startups with RD_Spend > 100000 and Profit > 120000."
      ],
      "metadata": {
        "id": "lFI8JdpndT8u"
      }
    },
    {
      "cell_type": "code",
      "source": [
        "print(df[(df['RD_Spend']> 100000) & (df['Profit']>120000)])"
      ],
      "metadata": {
        "colab": {
          "base_uri": "https://localhost:8080/"
        },
        "id": "NKBiP7UydMUK",
        "outputId": "57c585a2-7ee2-4339-db74-0bbfa8bd4be4"
      },
      "execution_count": null,
      "outputs": [
        {
          "output_type": "stream",
          "name": "stdout",
          "text": [
            "     RD_Spend  Administration       State     Profit  Total_Spend\n",
            "0   165349.20       136897.80    New York  192261.83    774031.10\n",
            "1   162597.70       151377.59  California  191792.06    757873.82\n",
            "2   153441.51       101145.55          FL  191050.39    662521.60\n",
            "3   144372.41       118671.85    New York  182901.99    646243.88\n",
            "4   142107.34        91391.77          FL  166187.94    599667.53\n",
            "5   131876.90        99814.71    New York  156991.12    594552.97\n",
            "6   134615.46       147198.87  California  156122.51    409531.15\n",
            "7   130298.13       145530.06          FL  155752.60    599704.87\n",
            "8   120542.52       148718.95    New York  152211.77    580874.76\n",
            "9   123334.88       108679.17  California  149759.96    536995.67\n",
            "10  101913.08       110594.11          FL  146121.95    441668.14\n",
            "11  100671.96        91790.61  California  144259.40    442207.12\n",
            "14  119943.24       156547.42          FL  132602.65    533003.58\n",
            "15  114523.61       122616.84    New York  129917.04    498916.68\n"
          ]
        }
      ]
    },
    {
      "cell_type": "markdown",
      "source": [
        "19.\tFilter all startups from New York with Admin cost below 120000."
      ],
      "metadata": {
        "id": "Ne2_tP5Gdaqq"
      }
    },
    {
      "cell_type": "code",
      "source": [
        "print( df[(df['State'] == 'New York') & (df['Administration'] < 120000)])"
      ],
      "metadata": {
        "colab": {
          "base_uri": "https://localhost:8080/"
        },
        "id": "ZZa_i5egf1cs",
        "outputId": "816c9215-d49c-4a83-a3dd-ffc52cefc95d"
      },
      "execution_count": null,
      "outputs": [
        {
          "output_type": "stream",
          "name": "stdout",
          "text": [
            "     RD_Spend  Administration     State     Profit  Total_Spend\n",
            "3   144372.41       118671.85  New York  182901.99    646243.88\n",
            "5   131876.90        99814.71  New York  156991.12    594552.97\n",
            "24   77044.01        99281.34  New York  108552.04    316900.16\n",
            "35   46014.02        85047.44  New York   96479.51    336579.10\n",
            "38   20229.59        65947.93  New York   81229.06    271442.62\n",
            "48     542.05        51743.15  New York   35673.41     52285.20\n"
          ]
        }
      ]
    },
    {
      "cell_type": "markdown",
      "source": [
        "20.\tList startups where Total_Spend is more than 400000."
      ],
      "metadata": {
        "id": "v7JnBNlvdc96"
      }
    },
    {
      "cell_type": "code",
      "source": [
        "print(df[df['Total_Spend']>400000])"
      ],
      "metadata": {
        "colab": {
          "base_uri": "https://localhost:8080/"
        },
        "id": "UxpVqLIqiM8E",
        "outputId": "f1ac281d-138c-4c62-beec-7d78a4c1e379"
      },
      "execution_count": null,
      "outputs": [
        {
          "output_type": "stream",
          "name": "stdout",
          "text": [
            "     RD_Spend  Administration       State     Profit  Total_Spend\n",
            "0   165349.20       136897.80    New York  192261.83    774031.10\n",
            "1   162597.70       151377.59  California  191792.06    757873.82\n",
            "2   153441.51       101145.55          FL  191050.39    662521.60\n",
            "3   144372.41       118671.85    New York  182901.99    646243.88\n",
            "4   142107.34        91391.77          FL  166187.94    599667.53\n",
            "5   131876.90        99814.71    New York  156991.12    594552.97\n",
            "6   134615.46       147198.87  California  156122.51    409531.15\n",
            "7   130298.13       145530.06          FL  155752.60    599704.87\n",
            "8   120542.52       148718.95    New York  152211.77    580874.76\n",
            "9   123334.88       108679.17  California  149759.96    536995.67\n",
            "10  101913.08       110594.11          FL  146121.95    441668.14\n",
            "11  100671.96        91790.61  California  144259.40    442207.12\n",
            "12   93863.75       127320.38          FL  141585.52    471023.57\n",
            "13   91992.39       135495.07  California  134307.35    480152.39\n",
            "14  119943.24       156547.42          FL  132602.65    533003.58\n",
            "15  114523.61       122616.84    New York  129917.04    498916.68\n",
            "16   78013.11       121597.55  California  126992.93    463956.72\n",
            "17   94657.16       145077.58    New York  125370.37    522309.05\n",
            "18   91749.16       114175.79          FL  124266.90    500844.52\n",
            "20   76253.86       113867.30  California  118474.03    488785.63\n",
            "21   78389.47       153773.43    New York  111313.02    531900.19\n",
            "22   73994.56       122782.75          FL  110352.25    500096.57\n",
            "23   67532.53       105751.03          FL  108733.99    478052.29\n",
            "27   72107.60       127864.55    New York  105008.31    553155.96\n",
            "34   46426.07       157693.92  California   96712.80    414917.66\n",
            "46    1315.46       115816.21          FL   49490.75    414246.13\n"
          ]
        }
      ]
    },
    {
      "cell_type": "markdown",
      "source": [
        "Aggregation & Grouping\n",
        "\n",
        "21.\tCount the number of startups in each state."
      ],
      "metadata": {
        "id": "Hu7WjvTDewa0"
      }
    },
    {
      "cell_type": "code",
      "source": [
        "print(df['State'].value_counts())"
      ],
      "metadata": {
        "colab": {
          "base_uri": "https://localhost:8080/"
        },
        "id": "5u12QUGripzq",
        "outputId": "a795908b-0102-4d56-9671-fb8805921008"
      },
      "execution_count": null,
      "outputs": [
        {
          "output_type": "stream",
          "name": "stdout",
          "text": [
            "State\n",
            "New York      17\n",
            "California    17\n",
            "FL            16\n",
            "Name: count, dtype: int64\n"
          ]
        }
      ]
    },
    {
      "cell_type": "markdown",
      "source": [
        "22.\tFind the average profit for each state."
      ],
      "metadata": {
        "id": "M_hudaNWe6DF"
      }
    },
    {
      "cell_type": "code",
      "source": [
        "print( df.groupby('State')['Profit'].mean())"
      ],
      "metadata": {
        "colab": {
          "base_uri": "https://localhost:8080/"
        },
        "id": "KhmgQAyVmJ_3",
        "outputId": "a25aa55c-e59a-40dd-cff0-1e74067d75cd"
      },
      "execution_count": null,
      "outputs": [
        {
          "output_type": "stream",
          "name": "stdout",
          "text": [
            "State\n",
            "California    103905.175294\n",
            "FL            118774.024375\n",
            "New York      113756.446471\n",
            "Name: Profit, dtype: float64\n"
          ]
        }
      ]
    },
    {
      "cell_type": "markdown",
      "source": [
        "23.\tFind the maximum RD_Spend for each state."
      ],
      "metadata": {
        "id": "_PyTy1kufrp6"
      }
    },
    {
      "cell_type": "code",
      "source": [
        "print( df.groupby('State')['RD_Spend'].max())"
      ],
      "metadata": {
        "colab": {
          "base_uri": "https://localhost:8080/"
        },
        "id": "64M8DaJZoJao",
        "outputId": "6234cb1d-a125-4422-efc2-4cc15c5f1951"
      },
      "execution_count": null,
      "outputs": [
        {
          "output_type": "stream",
          "name": "stdout",
          "text": [
            "State\n",
            "California    162597.70\n",
            "FL            153441.51\n",
            "New York      165349.20\n",
            "Name: RD_Spend, dtype: float64\n"
          ]
        }
      ]
    },
    {
      "cell_type": "markdown",
      "source": [
        "24.\tCalculate the mean Administration cost overall."
      ],
      "metadata": {
        "id": "UGRz7B9Of7bx"
      }
    },
    {
      "cell_type": "code",
      "source": [
        "print(df['Administration'].mean())"
      ],
      "metadata": {
        "colab": {
          "base_uri": "https://localhost:8080/"
        },
        "id": "s12XyHt5qLiu",
        "outputId": "6cbddb3a-cc59-4603-85a1-8197e0d85a12"
      },
      "execution_count": null,
      "outputs": [
        {
          "output_type": "stream",
          "name": "stdout",
          "text": [
            "121344.63960000001\n"
          ]
        }
      ]
    },
    {
      "cell_type": "markdown",
      "source": [
        "25.\tGroup by State and find the total Marketing Spend."
      ],
      "metadata": {
        "id": "ea3g1gLRgLyI"
      }
    },
    {
      "cell_type": "code",
      "source": [
        "print(df.groupby('State')['Total_Spend'].sum())"
      ],
      "metadata": {
        "colab": {
          "base_uri": "https://localhost:8080/"
        },
        "id": "y3Vn2jg9rIfz",
        "outputId": "ed18e121-ea17-471e-b430-4cd8c2fe7d94"
      },
      "execution_count": null,
      "outputs": [
        {
          "output_type": "stream",
          "name": "stdout",
          "text": [
            "State\n",
            "California    6255066.88\n",
            "FL            7197063.44\n",
            "New York      6852437.33\n",
            "Name: Total_Spend, dtype: float64\n"
          ]
        }
      ]
    },
    {
      "cell_type": "markdown",
      "source": [
        "Sorting & Advanced Tasks\n",
        "26.\tSort all startups in descending order of Profit.\n"
      ],
      "metadata": {
        "id": "oRLfAsApge5p"
      }
    },
    {
      "cell_type": "code",
      "source": [
        "print( df.sort_values(by='Profit', ascending=False))\n"
      ],
      "metadata": {
        "colab": {
          "base_uri": "https://localhost:8080/"
        },
        "id": "0lwl66-bgtbP",
        "outputId": "ae2daf96-e9aa-49b5-c728-9282d0ab292e"
      },
      "execution_count": null,
      "outputs": [
        {
          "output_type": "stream",
          "name": "stdout",
          "text": [
            "     RD_Spend  Administration       State     Profit  Total_Spend\n",
            "0   165349.20       136897.80    New York  192261.83    774031.10\n",
            "1   162597.70       151377.59  California  191792.06    757873.82\n",
            "2   153441.51       101145.55          FL  191050.39    662521.60\n",
            "3   144372.41       118671.85    New York  182901.99    646243.88\n",
            "4   142107.34        91391.77          FL  166187.94    599667.53\n",
            "5   131876.90        99814.71    New York  156991.12    594552.97\n",
            "6   134615.46       147198.87  California  156122.51    409531.15\n",
            "7   130298.13       145530.06          FL  155752.60    599704.87\n",
            "8   120542.52       148718.95    New York  152211.77    580874.76\n",
            "9   123334.88       108679.17  California  149759.96    536995.67\n",
            "10  101913.08       110594.11          FL  146121.95    441668.14\n",
            "11  100671.96        91790.61  California  144259.40    442207.12\n",
            "12   93863.75       127320.38          FL  141585.52    471023.57\n",
            "13   91992.39       135495.07  California  134307.35    480152.39\n",
            "14  119943.24       156547.42          FL  132602.65    533003.58\n",
            "15  114523.61       122616.84    New York  129917.04    498916.68\n",
            "16   78013.11       121597.55  California  126992.93    463956.72\n",
            "17   94657.16       145077.58    New York  125370.37    522309.05\n",
            "18   91749.16       114175.79          FL  124266.90    500844.52\n",
            "19   86419.70       153514.11    New York  122776.86    239933.81\n",
            "20   76253.86       113867.30  California  118474.03    488785.63\n",
            "21   78389.47       153773.43    New York  111313.02    531900.19\n",
            "22   73994.56       122782.75          FL  110352.25    500096.57\n",
            "23   67532.53       105751.03          FL  108733.99    478052.29\n",
            "24   77044.01        99281.34    New York  108552.04    316900.16\n",
            "25   64664.71       139553.16  California  107404.34    342180.49\n",
            "26   75328.87       144135.98          FL  105733.54    353514.92\n",
            "27   72107.60       127864.55    New York  105008.31    553155.96\n",
            "28   66051.52       182645.56          FL  103282.38    366845.28\n",
            "29   65605.48       153032.06    New York  101004.64    325775.92\n",
            "30   61994.48       115641.28          FL   99937.59    268767.00\n",
            "31   61136.38       152701.92    New York   97483.56    302056.53\n",
            "32   63408.86       129219.61  California   97427.84    238713.72\n",
            "33   55493.95       103057.49          FL   96778.92    373186.25\n",
            "34   46426.07       157693.92  California   96712.80    414917.66\n",
            "35   46014.02        85047.44    New York   96479.51    336579.10\n",
            "36   28663.76       127056.21          FL   90708.19    356846.79\n",
            "37   44069.95        51283.14  California   89949.14    292382.51\n",
            "38   20229.59        65947.93    New York   81229.06    271442.62\n",
            "39   38558.51        82982.09  California   81005.76    296539.90\n",
            "40   28754.33       118546.05  California   78239.91    320096.05\n",
            "41   27892.92        84710.77          FL   77798.83    277074.40\n",
            "42   23640.93        96189.63  California   71498.49    267831.67\n",
            "43   15505.73       127382.30    New York   69758.98    178422.20\n",
            "44   22177.74       154806.14  California   65200.33    205318.60\n",
            "45    1000.23       124153.04    New York   64926.08    127057.20\n",
            "46    1315.46       115816.21          FL   49490.75    414246.13\n",
            "47       0.00       135426.92  California   42559.73    135426.92\n",
            "48     542.05        51743.15    New York   35673.41     52285.20\n",
            "49       0.00       116983.80  California   14681.40    162156.86\n"
          ]
        }
      ]
    },
    {
      "cell_type": "markdown",
      "source": [
        "27.\tSort startups by Total_Spend and Profit"
      ],
      "metadata": {
        "id": "ozmsSjGEg2U7"
      }
    },
    {
      "cell_type": "code",
      "source": [
        "print( df.sort_values(by=['Total_Spend', 'Profit'], ascending=False))\n"
      ],
      "metadata": {
        "colab": {
          "base_uri": "https://localhost:8080/"
        },
        "id": "zbq8ejzIhAGH",
        "outputId": "74f82dda-7865-4839-d658-de2de69b9ae7"
      },
      "execution_count": null,
      "outputs": [
        {
          "output_type": "stream",
          "name": "stdout",
          "text": [
            "     RD_Spend  Administration       State     Profit  Total_Spend\n",
            "0   165349.20       136897.80    New York  192261.83    774031.10\n",
            "1   162597.70       151377.59  California  191792.06    757873.82\n",
            "2   153441.51       101145.55          FL  191050.39    662521.60\n",
            "3   144372.41       118671.85    New York  182901.99    646243.88\n",
            "7   130298.13       145530.06          FL  155752.60    599704.87\n",
            "4   142107.34        91391.77          FL  166187.94    599667.53\n",
            "5   131876.90        99814.71    New York  156991.12    594552.97\n",
            "8   120542.52       148718.95    New York  152211.77    580874.76\n",
            "27   72107.60       127864.55    New York  105008.31    553155.96\n",
            "9   123334.88       108679.17  California  149759.96    536995.67\n",
            "14  119943.24       156547.42          FL  132602.65    533003.58\n",
            "21   78389.47       153773.43    New York  111313.02    531900.19\n",
            "17   94657.16       145077.58    New York  125370.37    522309.05\n",
            "18   91749.16       114175.79          FL  124266.90    500844.52\n",
            "22   73994.56       122782.75          FL  110352.25    500096.57\n",
            "15  114523.61       122616.84    New York  129917.04    498916.68\n",
            "20   76253.86       113867.30  California  118474.03    488785.63\n",
            "13   91992.39       135495.07  California  134307.35    480152.39\n",
            "23   67532.53       105751.03          FL  108733.99    478052.29\n",
            "12   93863.75       127320.38          FL  141585.52    471023.57\n",
            "16   78013.11       121597.55  California  126992.93    463956.72\n",
            "11  100671.96        91790.61  California  144259.40    442207.12\n",
            "10  101913.08       110594.11          FL  146121.95    441668.14\n",
            "34   46426.07       157693.92  California   96712.80    414917.66\n",
            "46    1315.46       115816.21          FL   49490.75    414246.13\n",
            "6   134615.46       147198.87  California  156122.51    409531.15\n",
            "33   55493.95       103057.49          FL   96778.92    373186.25\n",
            "28   66051.52       182645.56          FL  103282.38    366845.28\n",
            "36   28663.76       127056.21          FL   90708.19    356846.79\n",
            "26   75328.87       144135.98          FL  105733.54    353514.92\n",
            "25   64664.71       139553.16  California  107404.34    342180.49\n",
            "35   46014.02        85047.44    New York   96479.51    336579.10\n",
            "29   65605.48       153032.06    New York  101004.64    325775.92\n",
            "40   28754.33       118546.05  California   78239.91    320096.05\n",
            "24   77044.01        99281.34    New York  108552.04    316900.16\n",
            "31   61136.38       152701.92    New York   97483.56    302056.53\n",
            "39   38558.51        82982.09  California   81005.76    296539.90\n",
            "37   44069.95        51283.14  California   89949.14    292382.51\n",
            "41   27892.92        84710.77          FL   77798.83    277074.40\n",
            "38   20229.59        65947.93    New York   81229.06    271442.62\n",
            "30   61994.48       115641.28          FL   99937.59    268767.00\n",
            "42   23640.93        96189.63  California   71498.49    267831.67\n",
            "19   86419.70       153514.11    New York  122776.86    239933.81\n",
            "32   63408.86       129219.61  California   97427.84    238713.72\n",
            "44   22177.74       154806.14  California   65200.33    205318.60\n",
            "43   15505.73       127382.30    New York   69758.98    178422.20\n",
            "49       0.00       116983.80  California   14681.40    162156.86\n",
            "47       0.00       135426.92  California   42559.73    135426.92\n",
            "45    1000.23       124153.04    New York   64926.08    127057.20\n",
            "48     542.05        51743.15    New York   35673.41     52285.20\n"
          ]
        }
      ]
    },
    {
      "cell_type": "markdown",
      "source": [
        "28.\tFind the top 5 startups by RD_Spend."
      ],
      "metadata": {
        "id": "5Rg2S1C3hHV4"
      }
    },
    {
      "cell_type": "code",
      "source": [
        "print( df.sort_values(by='RD_Spend', ascending=False).head(5))\n"
      ],
      "metadata": {
        "colab": {
          "base_uri": "https://localhost:8080/"
        },
        "id": "zfLBfcathJLg",
        "outputId": "ecadc617-411c-4893-dddb-bad8110ff99a"
      },
      "execution_count": null,
      "outputs": [
        {
          "output_type": "stream",
          "name": "stdout",
          "text": [
            "    RD_Spend  Administration       State     Profit  Total_Spend\n",
            "0  165349.20       136897.80    New York  192261.83    774031.10\n",
            "1  162597.70       151377.59  California  191792.06    757873.82\n",
            "2  153441.51       101145.55          FL  191050.39    662521.60\n",
            "3  144372.41       118671.85    New York  182901.99    646243.88\n",
            "4  142107.34        91391.77          FL  166187.94    599667.53\n"
          ]
        }
      ]
    },
    {
      "cell_type": "markdown",
      "source": [
        "29.\tAdd a new column Profit Margin % = (Profit / Total_Spend) * 100."
      ],
      "metadata": {
        "id": "tH_i9LHchT5l"
      }
    },
    {
      "cell_type": "code",
      "source": [
        "df['Profit_Margin'] = (df['Profit'] / df['Total_Spend']) * 100\n",
        "print( df[['RD_Spend', 'Total_Spend', 'Profit', 'Profit_Margin']].head())"
      ],
      "metadata": {
        "colab": {
          "base_uri": "https://localhost:8080/"
        },
        "id": "kG-kthVthdOC",
        "outputId": "8a0a751a-a581-4502-e6a5-728530085c44"
      },
      "execution_count": null,
      "outputs": [
        {
          "output_type": "stream",
          "name": "stdout",
          "text": [
            "    RD_Spend  Total_Spend     Profit  Profit_Margin\n",
            "0  165349.20    774031.10  192261.83      24.839032\n",
            "1  162597.70    757873.82  191792.06      25.306595\n",
            "2  153441.51    662521.60  191050.39      28.836855\n",
            "3  144372.41    646243.88  182901.99      28.302317\n",
            "4  142107.34    599667.53  166187.94      27.713346\n"
          ]
        }
      ]
    },
    {
      "cell_type": "markdown",
      "source": [
        "30.\tSave the final DataFrame to a new CSV file final_startups.csv."
      ],
      "metadata": {
        "id": "LeDV2i_thzXu"
      }
    },
    {
      "cell_type": "code",
      "source": [
        "df.to_csv(\"final_startups.csv\", index=False)\n",
        "print(\"final_startups.csv\")"
      ],
      "metadata": {
        "colab": {
          "base_uri": "https://localhost:8080/"
        },
        "id": "NFNWblovh394",
        "outputId": "d5a67513-5a0a-45cb-9434-e4d3a9537aac"
      },
      "execution_count": null,
      "outputs": [
        {
          "output_type": "stream",
          "name": "stdout",
          "text": [
            "final_startups.csv\n"
          ]
        }
      ]
    }
  ]
}